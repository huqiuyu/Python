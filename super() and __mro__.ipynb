{
 "cells": [
  {
   "cell_type": "markdown",
   "metadata": {},
   "source": [
    "# super() and __mro__\n",
    "https://blog.csdn.net/new_abc/article/details/47904595\n",
    "\n",
    "https://funhacks.net/2016/11/09/super/\n"
   ]
  },
  {
   "cell_type": "code",
   "execution_count": 32,
   "metadata": {},
   "outputs": [
    {
     "name": "stdout",
     "output_type": "stream",
     "text": [
      "True\n",
      "(<class '__main__.Base'>,)\n",
      "(<class '__main__.Derived'>, <class '__main__.Base'>)\n",
      "<class '__main__.Derived2'>\n",
      "(<class '__main__.Derived'>, <class '__main__.Base'>)\n",
      "(<class '__main__.Derived'>, <class '__main__.Base'>, <class 'object'>)\n",
      "(<class '__main__.Derived2'>, <class '__main__.Derived'>, <class '__main__.Base'>, <class 'object'>)\n"
     ]
    }
   ],
   "source": [
    "class Base:\n",
    "    pass\n",
    "\n",
    "class Derived(Base):\n",
    "    pass\n",
    "\n",
    "print(issubclass(Derived, Base))\n",
    "print(Derived.__bases__)\n",
    "\n",
    "class Derived2(Derived, Base):\n",
    "    pass\n",
    "\n",
    "print(Derived2.__bases__)\n",
    "\n",
    "d = Derived2()\n",
    "print(d.__class__)\n",
    "print(d.__class__.__bases__)\n",
    "print(Derived.__mro__)\n",
    "print(Derived2.__mro__)\n"
   ]
  },
  {
   "cell_type": "code",
   "execution_count": 8,
   "metadata": {},
   "outputs": [
    {
     "data": {
      "text/plain": [
       "list"
      ]
     },
     "execution_count": 8,
     "metadata": {},
     "output_type": "execute_result"
    }
   ],
   "source": [
    "[].__class__"
   ]
  },
  {
   "cell_type": "code",
   "execution_count": 9,
   "metadata": {},
   "outputs": [
    {
     "data": {
      "text/plain": [
       "str"
      ]
     },
     "execution_count": 9,
     "metadata": {},
     "output_type": "execute_result"
    }
   ],
   "source": [
    "''.__class__"
   ]
  },
  {
   "cell_type": "code",
   "execution_count": 10,
   "metadata": {},
   "outputs": [
    {
     "data": {
      "text/plain": [
       "dict"
      ]
     },
     "execution_count": 10,
     "metadata": {},
     "output_type": "execute_result"
    }
   ],
   "source": [
    "{}.__class__"
   ]
  },
  {
   "cell_type": "code",
   "execution_count": 21,
   "metadata": {},
   "outputs": [
    {
     "name": "stdout",
     "output_type": "stream",
     "text": [
      "<super: <class 'Derived2'>, <Derived2 object>>\n",
      "<class 'super'>\n",
      "<super: <class 'Derived'>, <Derived2 object>>\n",
      "<super: <class 'Base'>, <Derived2 object>>\n"
     ]
    }
   ],
   "source": [
    "class Base:\n",
    "    pass\n",
    "\n",
    "class Derived(Base):\n",
    "    pass\n",
    "\n",
    "class Derived2(Derived):\n",
    "    pass\n",
    "\n",
    "d = Derived2()\n",
    "print(super(Derived2, d))\n",
    "print(type(super(Derived2, d)))\n",
    "print(super(Derived, d))\n",
    "print(super(Base,d))"
   ]
  },
  {
   "cell_type": "code",
   "execution_count": 22,
   "metadata": {},
   "outputs": [],
   "source": [
    "class Animal(object):\n",
    "    def __init__(self, name):\n",
    "        self.name = name\n",
    "    def greet(self):\n",
    "        print('Hello, I am %s.' % self.name)\n",
    "        \n",
    "class Dog(Animal):\n",
    "    def greet(self):\n",
    "        super().greet()\n",
    "        print('wang wang wang')"
   ]
  },
  {
   "cell_type": "code",
   "execution_count": 24,
   "metadata": {},
   "outputs": [
    {
     "name": "stdout",
     "output_type": "stream",
     "text": [
      "Hello, I am dog.\n",
      "wang wang wang\n"
     ]
    }
   ],
   "source": [
    "dog = Dog('dog')\n",
    "dog.greet()"
   ]
  },
  {
   "cell_type": "code",
   "execution_count": 31,
   "metadata": {},
   "outputs": [
    {
     "name": "stdout",
     "output_type": "stream",
     "text": [
      "enter C\n",
      "enter A\n",
      "enter B\n",
      "enter Base\n",
      "leave Base\n",
      "leave B\n",
      "leave A\n",
      "leave C\n",
      "(<class '__main__.C'>, <class '__main__.A'>, <class '__main__.B'>, <class '__main__.Base'>, <class 'object'>)\n",
      "[<class '__main__.C'>, <class '__main__.A'>, <class '__main__.B'>, <class '__main__.Base'>, <class 'object'>]\n",
      "enter C\n",
      "enter A\n",
      "enter B\n",
      "enter Base\n",
      "leave Base\n",
      "leave B\n",
      "leave A\n",
      "leave C\n",
      "(<class '__main__.C'>, <class '__main__.A'>, <class '__main__.B'>, <class '__main__.Base'>, <class 'object'>)\n"
     ]
    }
   ],
   "source": [
    "class Base(object):\n",
    "    def __init__(self):\n",
    "        print (\"enter Base\")\n",
    "        print (\"leave Base\")\n",
    "class A(Base):\n",
    "    def __init__(self):\n",
    "        print (\"enter A\")\n",
    "        super(A, self).__init__()\n",
    "        print (\"leave A\")\n",
    "class B(Base):\n",
    "    def __init__(self):\n",
    "        print (\"enter B\")\n",
    "        super(B, self).__init__()\n",
    "        print (\"leave B\")\n",
    "class C(A, B):\n",
    "    def __init__(self):\n",
    "        print (\"enter C\")\n",
    "        super(C, self).__init__()\n",
    "        print (\"leave C\")\n",
    "        \n",
    "c = C()\n",
    "print(C.__mro__)\n",
    "print(C.mro())\n"
   ]
  },
  {
   "cell_type": "code",
   "execution_count": null,
   "metadata": {},
   "outputs": [],
   "source": []
  }
 ],
 "metadata": {
  "kernelspec": {
   "display_name": "Python 3",
   "language": "python",
   "name": "python3"
  },
  "language_info": {
   "codemirror_mode": {
    "name": "ipython",
    "version": 3
   },
   "file_extension": ".py",
   "mimetype": "text/x-python",
   "name": "python",
   "nbconvert_exporter": "python",
   "pygments_lexer": "ipython3",
   "version": "3.6.4"
  }
 },
 "nbformat": 4,
 "nbformat_minor": 2
}
