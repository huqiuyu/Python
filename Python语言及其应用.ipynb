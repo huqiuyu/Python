{
 "cells": [
  {
   "cell_type": "code",
   "execution_count": 20,
   "metadata": {},
   "outputs": [],
   "source": [
    "# import threading\n",
    "# import time \n",
    "# from queue import Queue"
   ]
  },
  {
   "cell_type": "code",
   "execution_count": 13,
   "metadata": {},
   "outputs": [],
   "source": [
    "# def thread_job():\n",
    "#      print('This is added thread, number is %s\\n' % threading.current_thread())\n",
    "\n",
    "\n",
    "# def main():\n",
    "#     added_thread = threading.Thread(target = thread_job)\n",
    "#     added_thread.start()\n",
    "#     print(threading.active_count())\n",
    "#     print(threading.enumerate())\n",
    "#     print(threading.current_thread())\n",
    "    \n",
    "# main()"
   ]
  },
  {
   "cell_type": "code",
   "execution_count": 18,
   "metadata": {},
   "outputs": [
    {
     "name": "stdout",
     "output_type": "stream",
     "text": [
      "T1 start\n",
      "T2 start\n",
      "\n",
      "\n",
      "T2 finish\n",
      "\n",
      "T1 finish\n",
      "\n",
      "all done\n",
      "\n"
     ]
    }
   ],
   "source": [
    "\n",
    "# def thread_job():    \n",
    "#     print('T1 start\\n')\n",
    "#     for i in range(10):\n",
    "#         time.sleep(0.1)\n",
    "#     print('T1 finish\\n')\n",
    "# def T2_job():\n",
    "#     print('T2 start\\n')\n",
    "#     print('T2 finish\\n')\n",
    "    \n",
    "\n",
    "# def main():\n",
    "#     added_thread = threading.Thread(target = thread_job, name = 'T1')\n",
    "#     thread2 = threading.Thread(target=T2_job, name='T2')\n",
    "#     added_thread.start()\n",
    "#     thread2.start()\n",
    "    \n",
    "#     added_thread.join()\n",
    "#     thread2.join()\n",
    "#     print('all done\\n')\n",
    "    \n",
    "# main()"
   ]
  },
  {
   "cell_type": "code",
   "execution_count": null,
   "metadata": {},
   "outputs": [],
   "source": [
    "# def job(l):\n",
    "#     for i in l:\n",
    "#         l[i] = l[i]**2\n",
    "#     return l\n",
    "\n",
    "# def multithreading(data):\n",
    "#     q = Queue()\n",
    "#     threads = []\n",
    "#     data = [[1,2,3],[3,4,5],[4,4,4],[5,5,5]]\n",
    "#     for i in range(4):\n",
    "#         t = thread.Thread(target=job, args=(data[i], q))\n",
    "#         t.start()\n",
    "#         threads.append(t)\n",
    "#     for athread in threads:\n",
    "#         athread.join()\n",
    "        \n",
    "    \n",
    "    \n",
    "\n",
    "# def main():\n",
    "#     added_thread = threading.Thread(target = thread_job, name = 'T1')\n",
    "#     thread2 = threading.Thread(target=T2_job, name='T2')\n",
    "#     added_thread.start()\n",
    "#     thread2.start()\n",
    "    \n",
    "#     added_thread.join()\n",
    "#     thread2.join()\n",
    "#     print('all done\\n')\n",
    "    \n",
    "# main()"
   ]
  },
  {
   "cell_type": "code",
   "execution_count": 8,
   "metadata": {},
   "outputs": [
    {
     "name": "stdout",
     "output_type": "stream",
     "text": [
      "class Person is being create...\n"
     ]
    }
   ],
   "source": [
    "class Person:\n",
    "    print(\"class Person is being create...\")\n",
    "    classVariable = [1,2,3]\n",
    "    def __init__(self, name, age):\n",
    "        self.name, self.age = name, age\n",
    "\n",
    " \n"
   ]
  },
  {
   "cell_type": "code",
   "execution_count": 33,
   "metadata": {},
   "outputs": [
    {
     "name": "stdout",
     "output_type": "stream",
     "text": [
      "{'hidden_name': 'Howard'}\n",
      "['__class__', '__delattr__', '__dict__', '__dir__', '__doc__', '__eq__', '__format__', '__ge__', '__getattribute__', '__gt__', '__hash__', '__init__', '__init_subclass__', '__le__', '__lt__', '__module__', '__ne__', '__new__', '__reduce__', '__reduce_ex__', '__repr__', '__setattr__', '__sizeof__', '__str__', '__subclasshook__', '__weakref__', 'get_name', 'hidden_name', 'name', 'set_name']\n"
     ]
    }
   ],
   "source": [
    "class Duck():\n",
    "    def __init__(self, input_name):\n",
    "        self.hidden_name = input_name\n",
    "    def get_name(self):\n",
    "        print('inside the getter')\n",
    "        return self.hidden_name\n",
    "    def set_name(self, input_name):\n",
    "        print('inside the setter')\n",
    "        self.hidden_name = input_name\n",
    "    name = property(get_name, set_name)\n",
    "    \n",
    " \n",
    "    \n",
    "\n",
    "fowl = Duck('Howard')\n",
    "print(fowl.__dict__)\n",
    "print(dir(fowl))\n",
    "\n"
   ]
  },
  {
   "cell_type": "code",
   "execution_count": 34,
   "metadata": {},
   "outputs": [
    {
     "name": "stdout",
     "output_type": "stream",
     "text": [
      "{'hidden_name': 'Howard'}\n",
      "['__class__', '__delattr__', '__dict__', '__dir__', '__doc__', '__eq__', '__format__', '__ge__', '__getattribute__', '__gt__', '__hash__', '__init__', '__init_subclass__', '__le__', '__lt__', '__module__', '__ne__', '__new__', '__reduce__', '__reduce_ex__', '__repr__', '__setattr__', '__sizeof__', '__str__', '__subclasshook__', '__weakref__', 'hidden_name', 'name']\n"
     ]
    }
   ],
   "source": [
    "class Duck():\n",
    "    def __init__(self, input_name):\n",
    "        self.hidden_name = input_name\n",
    "    \n",
    "    @property\n",
    "    def name(self):\n",
    "        print('inside the getter')\n",
    "        return self.hidden_name\n",
    "    \n",
    "    @name.setter\n",
    "    def name(self, input_name):\n",
    "        print('inside the setter')\n",
    "        self.hidden_name = input_name\n",
    "    \n",
    "    \n",
    "\n",
    "fowl = Duck('Howard')\n",
    "print(fowl.__dict__)\n",
    "print(dir(fowl))"
   ]
  },
  {
   "cell_type": "code",
   "execution_count": 1,
   "metadata": {},
   "outputs": [
    {
     "name": "stdout",
     "output_type": "stream",
     "text": [
      "5\n",
      "10\n",
      "2222\n",
      "['__class__', '__delattr__', '__dict__', '__dir__', '__doc__', '__eq__', '__format__', '__ge__', '__getattribute__', '__gt__', '__hash__', '__init__', '__init_subclass__', '__le__', '__lt__', '__module__', '__ne__', '__new__', '__reduce__', '__reduce_ex__', '__repr__', '__setattr__', '__sizeof__', '__str__', '__subclasshook__', '__weakref__', 'diameter', 'radius']\n"
     ]
    }
   ],
   "source": [
    "class Circle():\n",
    "    def __init__(self,radius):\n",
    "        self.radius = radius\n",
    "    @property\n",
    "    def diameter(self):\n",
    "        return self.radius * 2\n",
    "    \n",
    "c = Circle(5)\n",
    "print(c.radius)\n",
    "print(c.diameter)\n",
    "c.radius = 1111\n",
    "print(c.diameter)\n",
    "print(dir(c))"
   ]
  },
  {
   "cell_type": "code",
   "execution_count": 4,
   "metadata": {},
   "outputs": [
    {
     "name": "stdout",
     "output_type": "stream",
     "text": [
      "<class 'function'>\n",
      "<class 'generator'>\n",
      "1\n",
      "2\n",
      "3\n",
      "4\n",
      "<class 'function'>\n"
     ]
    }
   ],
   "source": [
    "def my_range(first=0, last=10, step=1):\n",
    "    number = first\n",
    "    while number<last:\n",
    "        yield number\n",
    "        number += step\n",
    "print(type(my_range))\n",
    "ranger = my_range(1,5)\n",
    "print(type(ranger))\n",
    "for i in ranger:\n",
    "    print(i)\n",
    "    \n",
    "g = lambda x:x**2\n",
    "print(type(g))"
   ]
  },
  {
   "cell_type": "code",
   "execution_count": 7,
   "metadata": {},
   "outputs": [
    {
     "name": "stdout",
     "output_type": "stream",
     "text": [
      "Running function: add_ints\n",
      "Position arguments: (3, 5)\n",
      "Keyword arguments: {}\n",
      "Result: 8\n",
      "8\n",
      "<function document_it.<locals>.new_function at 0x00DCA150>\n"
     ]
    }
   ],
   "source": [
    "def document_it(func):\n",
    "    def new_function(*args, **kwargs):\n",
    "        print('Running function:', func.__name__)\n",
    "        print('Position arguments:', args)\n",
    "        print('Keyword arguments:', kwargs)\n",
    "        result = func(*args, **kwargs)\n",
    "        print('Result:', result)\n",
    "        return result\n",
    "    return new_function\n",
    "\n",
    "def add_ints(a, b):\n",
    "    return a+b\n",
    "\n",
    "cooler_add_ints = document_it(add_ints)\n",
    "print(cooler_add_ints(3,5))\n",
    "print(cooler_add_ints)"
   ]
  },
  {
   "cell_type": "code",
   "execution_count": 18,
   "metadata": {},
   "outputs": [
    {
     "name": "stdout",
     "output_type": "stream",
     "text": [
      "0XDCAC48\n",
      "0X3577300\n",
      "Running function: new_function2\n",
      "Position arguments: (3, 5)\n",
      "Keyword arguments: {}\n",
      "Result: 64\n",
      "<function document_it.<locals>.new_function1 at 0x03577300>\n",
      "<class 'function'>\n"
     ]
    }
   ],
   "source": [
    "def document_it(func):\n",
    "    def new_function1(*args, **kwargs):\n",
    "        print('Running function:', func.__name__)\n",
    "        print('Position arguments:', args)\n",
    "        print('Keyword arguments:', kwargs)\n",
    "        result = func(*args, **kwargs)\n",
    "        print('Result:', result)\n",
    "        return result\n",
    "    print('%0#X' %id(new_function1))\n",
    "    return new_function1\n",
    "\n",
    "\n",
    "\n",
    "def square_it(func):\n",
    "    def new_function2(*args, **kwargs):\n",
    "        result = func(*args, **kwargs)\n",
    "        return result*result\n",
    "    print('%0#X' %id(new_function2))\n",
    "    return new_function2\n",
    "\n",
    "@document_it\n",
    "@square_it\n",
    "def add_ints(a,b):\n",
    "    return a+b\n",
    "add_ints(3,5)\n",
    "print(add_ints)\n",
    "print(type(add_ints))"
   ]
  },
  {
   "cell_type": "code",
   "execution_count": 22,
   "metadata": {},
   "outputs": [],
   "source": [
    "from collections import Sized"
   ]
  },
  {
   "cell_type": "code",
   "execution_count": null,
   "metadata": {},
   "outputs": [],
   "source": [
    "\n"
   ]
  }
 ],
 "metadata": {
  "kernelspec": {
   "display_name": "Python 3",
   "language": "python",
   "name": "python3"
  },
  "language_info": {
   "codemirror_mode": {
    "name": "ipython",
    "version": 3
   },
   "file_extension": ".py",
   "mimetype": "text/x-python",
   "name": "python",
   "nbconvert_exporter": "python",
   "pygments_lexer": "ipython3",
   "version": "3.6.4"
  }
 },
 "nbformat": 4,
 "nbformat_minor": 2
}
