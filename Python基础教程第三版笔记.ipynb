{
 "cells": [
  {
   "cell_type": "markdown",
   "metadata": {},
   "source": [
    "# Chapter 1"
   ]
  },
  {
   "cell_type": "code",
   "execution_count": 1,
   "metadata": {},
   "outputs": [
    {
     "name": "stdout",
     "output_type": "stream",
     "text": [
      "0.5\n",
      "0\n",
      "2.0\n",
      "1\n",
      "0.25\n"
     ]
    }
   ],
   "source": [
    "print(1/2)\n",
    "print(1//2)\n",
    "print(5.0//2.4)\n",
    "print(10%3)\n",
    "print(2.75%0.5)"
   ]
  },
  {
   "cell_type": "code",
   "execution_count": 2,
   "metadata": {},
   "outputs": [
    {
     "name": "stdout",
     "output_type": "stream",
     "text": [
      "-4\n",
      "-4\n",
      "3\n",
      "-2\n",
      "2\n",
      "-1\n"
     ]
    }
   ],
   "source": [
    "print(10//-3)\n",
    "print(-10//3)\n",
    "print(-10//-3)\n",
    "print(10%-3)\n",
    "print(-10%3)\n",
    "print(-10%-3)"
   ]
  },
  {
   "cell_type": "code",
   "execution_count": 3,
   "metadata": {},
   "outputs": [
    {
     "name": "stdout",
     "output_type": "stream",
     "text": [
      "-9\n",
      "255\n",
      "8\n",
      "255\n"
     ]
    }
   ],
   "source": [
    "print(-3**2)\n",
    "print(0Xff)\n",
    "print(0o10)\n",
    "print(0b11111111)"
   ]
  },
  {
   "cell_type": "code",
   "execution_count": 4,
   "metadata": {},
   "outputs": [
    {
     "name": "stdout",
     "output_type": "stream",
     "text": [
      "32\n",
      "33\n",
      "3.0\n",
      "1j\n"
     ]
    }
   ],
   "source": [
    "import math,cmath\n",
    "print(math.floor(32.9))\n",
    "print(math.ceil(32.01))\n",
    "print(math.sqrt(9))\n",
    "print(cmath.sqrt(-1))"
   ]
  },
  {
   "cell_type": "code",
   "execution_count": 5,
   "metadata": {},
   "outputs": [
    {
     "data": {
      "text/plain": [
       "'hello world'"
      ]
     },
     "execution_count": 5,
     "metadata": {},
     "output_type": "execute_result"
    }
   ],
   "source": [
    "\"Let's say \" '\"hello python\"'\n",
    "\"hello world\""
   ]
  },
  {
   "cell_type": "code",
   "execution_count": 6,
   "metadata": {},
   "outputs": [
    {
     "name": "stdout",
     "output_type": "stream",
     "text": [
      "hello world\n"
     ]
    }
   ],
   "source": [
    "print(\"hello world\")"
   ]
  },
  {
   "cell_type": "code",
   "execution_count": 7,
   "metadata": {},
   "outputs": [
    {
     "data": {
      "text/plain": [
       "'hello\\nworld'"
      ]
     },
     "execution_count": 7,
     "metadata": {},
     "output_type": "execute_result"
    }
   ],
   "source": [
    "'hello\\nworld'"
   ]
  },
  {
   "cell_type": "code",
   "execution_count": 8,
   "metadata": {},
   "outputs": [
    {
     "name": "stdout",
     "output_type": "stream",
     "text": [
      "'hello\\nworld'\n",
      "hello\n",
      "world\n",
      "hello\n",
      "world\n"
     ]
    }
   ],
   "source": [
    "print(repr(\"hello\\nworld\"))\n",
    "print(\"hello\\nworld\")\n",
    "print(str(\"hello\\nworld\"))"
   ]
  },
  {
   "cell_type": "code",
   "execution_count": 9,
   "metadata": {},
   "outputs": [
    {
     "name": "stdout",
     "output_type": "stream",
     "text": [
      "Hello, world!\n",
      "10\n",
      "hello\n"
     ]
    }
   ],
   "source": [
    "print(\"Hello, \\\n",
    "world!\")\n",
    "\n",
    "print(1+2+\\\n",
    "3+4)\n",
    "\n",
    "print\\\n",
    "(\"hello\")"
   ]
  },
  {
   "cell_type": "markdown",
   "metadata": {},
   "source": [
    "### 原始字符串\n"
   ]
  },
  {
   "cell_type": "code",
   "execution_count": 10,
   "metadata": {},
   "outputs": [
    {
     "name": "stdout",
     "output_type": "stream",
     "text": [
      "C:\n",
      "owhere\n",
      "C:\\nowhere\n",
      "C:\\nowhere\n",
      "Let\\'s go\n",
      "C:\\Users\\hqy\\\n"
     ]
    }
   ],
   "source": [
    "path = 'C:\\nowhere'\n",
    "print(path)\n",
    "print('C:\\\\nowhere')\n",
    "print(r'C:\\nowhere')\n",
    "print(r'Let\\'s go')\n",
    "print(r'C:\\Users\\hqy' '\\\\')"
   ]
  },
  {
   "cell_type": "code",
   "execution_count": 11,
   "metadata": {},
   "outputs": [
    {
     "name": "stdout",
     "output_type": "stream",
     "text": [
      "Cat: 🐈\n",
      "b'hello'\n",
      "<class 'bytes'>\n"
     ]
    }
   ],
   "source": [
    "print('Cat: \\N{Cat}')\n",
    "print(b'hello')\n",
    "print(type(b'hello'))\n"
   ]
  },
  {
   "cell_type": "markdown",
   "metadata": {},
   "source": [
    "# Chapter 2 列表"
   ]
  },
  {
   "cell_type": "code",
   "execution_count": 12,
   "metadata": {},
   "outputs": [
    {
     "name": "stdout",
     "output_type": "stream",
     "text": [
      "h\n",
      "o\n",
      "[8, 9, 10]\n",
      "[8, 9]\n",
      "[]\n",
      "[8, 9, 10]\n",
      "[1, 2, 3]\n",
      "[1, 2, 3, 4, 5, 6, 7, 8, 9, 10]\n"
     ]
    }
   ],
   "source": [
    "greeting = 'hello'\n",
    "print(greeting[0])\n",
    "print(greeting[-1])\n",
    "numbers = list(range(1,11))\n",
    "print(numbers[7:10])\n",
    "print(numbers[-3:-1])\n",
    "print(numbers[-3:0])\n",
    "print(numbers[-3:])\n",
    "print(numbers[:3])\n",
    "print(numbers[:])\n"
   ]
  },
  {
   "cell_type": "code",
   "execution_count": 13,
   "metadata": {},
   "outputs": [
    {
     "name": "stdout",
     "output_type": "stream",
     "text": [
      "[1, 3, 5, 7, 9]\n",
      "[4]\n",
      "[1, 5, 9]\n",
      "[9, 8, 7, 6, 5]\n",
      "[10, 8, 6, 4, 2]\n",
      "[]\n",
      "[10, 9, 8, 7, 6, 5, 4, 3, 2, 1]\n",
      "[]\n",
      "[6, 4, 2]\n",
      "[10, 8]\n"
     ]
    }
   ],
   "source": [
    "numbers = list(range(1,11))\n",
    "print(numbers[0:10:2])\n",
    "print(numbers[3:6:3])\n",
    "print(numbers[::4])\n",
    "print(numbers[8:3:-1])\n",
    "print(numbers[10:0:-2])\n",
    "print(numbers[0:10:-2])\n",
    "print(numbers[::-1])\n",
    "print(numbers[11:110])\n",
    "print(numbers[5::-2])\n",
    "print(numbers[:5:-2])"
   ]
  },
  {
   "cell_type": "markdown",
   "metadata": {},
   "source": [
    "len(), max(), min(), in, 加法, 乘法, del"
   ]
  },
  {
   "cell_type": "code",
   "execution_count": 14,
   "metadata": {},
   "outputs": [
    {
     "name": "stdout",
     "output_type": "stream",
     "text": [
      "['a']\n"
     ]
    }
   ],
   "source": [
    "lst = ['a','b']\n",
    "del lst[1]\n",
    "print(lst)"
   ]
  },
  {
   "cell_type": "code",
   "execution_count": 15,
   "metadata": {},
   "outputs": [
    {
     "name": "stdout",
     "output_type": "stream",
     "text": [
      "True\n",
      "False\n",
      "False\n"
     ]
    }
   ],
   "source": [
    "a = [1,3,5]\n",
    "b=a\n",
    "print(a is b)\n",
    "c = a.copy()\n",
    "print(a is c)\n",
    "\n",
    "d = a[:]\n",
    "print(a is d)"
   ]
  },
  {
   "cell_type": "code",
   "execution_count": 16,
   "metadata": {},
   "outputs": [
    {
     "name": "stdout",
     "output_type": "stream",
     "text": [
      "['P', 'e', 'r', 'l']\n",
      "['P', 'y', 't', 'h', 'o', 'n']\n",
      "[1, 2, 3, 4, 5]\n",
      "[1, 5]\n"
     ]
    }
   ],
   "source": [
    "name = list('Perl')\n",
    "print(name)\n",
    "name[1:] = list('ython')\n",
    "print(name)\n",
    "numbers = [1,5]\n",
    "numbers[1:1] = [2,3,4]\n",
    "print(numbers)\n",
    "numbers[1:4] = [] # del numbers[1:4]\n",
    "print(numbers)"
   ]
  },
  {
   "cell_type": "code",
   "execution_count": 17,
   "metadata": {},
   "outputs": [
    {
     "name": "stdout",
     "output_type": "stream",
     "text": [
      "[1, 2, 3, 4]\n",
      "[]\n",
      "False\n",
      "3\n",
      "[1, 2, 3, 4, 5, 6]\n",
      "1\n"
     ]
    }
   ],
   "source": [
    "lst = [1,2,3]\n",
    "lst.append(4)\n",
    "print(lst)\n",
    "\n",
    "lst.clear() # lst[:] = []\n",
    "print(lst)\n",
    "\n",
    "a = [1,2,3,4]\n",
    "print(a.copy() is a)\n",
    "\n",
    "print([1,2,3,2,1,1].count(1))\n",
    "\n",
    "a = [1,2,3]\n",
    "b = [4,5,6]\n",
    "a.extend(b)  #a[len(a):] = b  or a=a+b\n",
    "print(a)\n",
    "\n",
    "a = ['hello','python']\n",
    "print(a.index('python'))\n",
    "\n"
   ]
  },
  {
   "cell_type": "markdown",
   "metadata": {},
   "source": [
    "## 字典dict"
   ]
  },
  {
   "cell_type": "code",
   "execution_count": 11,
   "metadata": {},
   "outputs": [
    {
     "name": "stdout",
     "output_type": "stream",
     "text": [
      "{}\n",
      "{'a': 'b', 'c': 'd'}\n",
      "{'name': 'jack', 'age': 26}\n",
      "{'name': 'hello', 'school': 'world'}\n"
     ]
    }
   ],
   "source": [
    "d = {'name':'Taylor', 'age':29}\n",
    "d.clear()\n",
    "print(d)\n",
    "\n",
    "d = dict(('ab','cd'))\n",
    "print(d)\n",
    "\n",
    "d = dict([('name','jack'), ('age', 26)])\n",
    "print(d)\n",
    "\n",
    "d = dict(name='hello', school='world')\n",
    "print(d)"
   ]
  },
  {
   "cell_type": "code",
   "execution_count": 19,
   "metadata": {},
   "outputs": [
    {
     "name": "stdout",
     "output_type": "stream",
     "text": [
      "{'key': 'value'}\n",
      "{'key': 'value'}\n"
     ]
    }
   ],
   "source": [
    "x = {}\n",
    "y=x\n",
    "x['key'] = 'value'\n",
    "print(y)\n",
    "x = {}\n",
    "print(y)\n"
   ]
  },
  {
   "cell_type": "code",
   "execution_count": 20,
   "metadata": {},
   "outputs": [
    {
     "name": "stdout",
     "output_type": "stream",
     "text": [
      "{'key': 'value'}\n",
      "{}\n"
     ]
    }
   ],
   "source": [
    "x = {}\n",
    "y=x\n",
    "x['key'] = 'value'\n",
    "print(y)\n",
    "x.clear()\n",
    "print(y)"
   ]
  },
  {
   "cell_type": "code",
   "execution_count": 21,
   "metadata": {},
   "outputs": [
    {
     "name": "stdout",
     "output_type": "stream",
     "text": [
      "False\n",
      "{'username': 'admin', 'machines': ['foo', 'bar']}\n",
      "{'username': 'newName', 'machines': ['foo', 'bar']}\n"
     ]
    }
   ],
   "source": [
    "\n",
    "x = {'username':'admin', 'machines':['foo','bar','baz']}\n",
    "y = x.copy()\n",
    "print(x is y)\n",
    "y['username'] = 'newName'\n",
    "y['machines'].pop()\n",
    "print(x)\n",
    "print(y)"
   ]
  },
  {
   "cell_type": "code",
   "execution_count": 22,
   "metadata": {},
   "outputs": [
    {
     "name": "stdout",
     "output_type": "stream",
     "text": [
      "{'names': ['taylor', 'swift', 'newName']}\n",
      "{'names': ['taylor', 'swift', 'newName']}\n",
      "{'names': ['taylor', 'swift']}\n"
     ]
    }
   ],
   "source": [
    "from copy import deepcopy\n",
    "x = {'names':['taylor','swift']}\n",
    "y = x.copy()\n",
    "z = deepcopy(x)\n",
    "x['names'].append('newName')\n",
    "print(x)\n",
    "print(y)\n",
    "print(z)"
   ]
  },
  {
   "cell_type": "code",
   "execution_count": 23,
   "metadata": {},
   "outputs": [
    {
     "data": {
      "text/plain": [
       "{'age': None, 'name': None}"
      ]
     },
     "execution_count": 23,
     "metadata": {},
     "output_type": "execute_result"
    }
   ],
   "source": [
    "{}.fromkeys(['name','age'])"
   ]
  },
  {
   "cell_type": "code",
   "execution_count": 24,
   "metadata": {},
   "outputs": [
    {
     "data": {
      "text/plain": [
       "{'age': 'unknown', 'name': 'unknown'}"
      ]
     },
     "execution_count": 24,
     "metadata": {},
     "output_type": "execute_result"
    }
   ],
   "source": [
    "{}.fromkeys(['name','age'], 'unknown')"
   ]
  },
  {
   "cell_type": "code",
   "execution_count": 25,
   "metadata": {},
   "outputs": [
    {
     "data": {
      "text/plain": [
       "{'age': ['unknown', 'zero'], 'name': ['unknown', 'zero']}"
      ]
     },
     "execution_count": 25,
     "metadata": {},
     "output_type": "execute_result"
    }
   ],
   "source": [
    "{}.fromkeys(['name','age'], ['unknown', 'zero'])"
   ]
  },
  {
   "cell_type": "code",
   "execution_count": 26,
   "metadata": {},
   "outputs": [
    {
     "data": {
      "text/plain": [
       "{'1': None, '2': None}"
      ]
     },
     "execution_count": 26,
     "metadata": {},
     "output_type": "execute_result"
    }
   ],
   "source": [
    "dict().fromkeys(['1','2'])"
   ]
  },
  {
   "cell_type": "code",
   "execution_count": 27,
   "metadata": {},
   "outputs": [
    {
     "name": "stdout",
     "output_type": "stream",
     "text": [
      "[4, 5, 6]\n",
      "[1, 2, 3]\n"
     ]
    }
   ],
   "source": [
    "x = [1,2,3]\n",
    "y = [4,5,6]\n",
    "x,y = y,x\n",
    "print(x)\n",
    "print(y)"
   ]
  },
  {
   "cell_type": "markdown",
   "metadata": {},
   "source": [
    "## nonlocal"
   ]
  },
  {
   "cell_type": "code",
   "execution_count": 28,
   "metadata": {},
   "outputs": [
    {
     "name": "stdout",
     "output_type": "stream",
     "text": [
      "inner: 2\n",
      "outer: 1\n",
      "global: 0\n"
     ]
    }
   ],
   "source": [
    "x = 0\n",
    "def outer():\n",
    "    x = 1\n",
    "    def inner():\n",
    "        x = 2\n",
    "        print('inner:',x)\n",
    "    inner()\n",
    "    print('outer:',x)\n",
    "    \n",
    "outer()\n",
    "print('global:',x)"
   ]
  },
  {
   "cell_type": "code",
   "execution_count": 29,
   "metadata": {},
   "outputs": [
    {
     "name": "stdout",
     "output_type": "stream",
     "text": [
      "inner: 2\n",
      "outer: 2\n",
      "global: 0\n"
     ]
    }
   ],
   "source": [
    "x = 0\n",
    "def outer():\n",
    "    x = 1\n",
    "    def inner():\n",
    "        nonlocal x\n",
    "        x = 2\n",
    "        print('inner:',x)\n",
    "    inner()\n",
    "    print('outer:',x)\n",
    "    \n",
    "outer()\n",
    "print('global:',x)"
   ]
  },
  {
   "cell_type": "code",
   "execution_count": 30,
   "metadata": {},
   "outputs": [
    {
     "name": "stdout",
     "output_type": "stream",
     "text": [
      "inner: 2\n",
      "outer: 1\n",
      "global: 2\n"
     ]
    }
   ],
   "source": [
    "x = 0\n",
    "def outer():\n",
    "    x = 1\n",
    "    def inner():\n",
    "        global x\n",
    "        x = 2\n",
    "        print('inner:',x)\n",
    "    inner()\n",
    "    print('outer:',x)\n",
    "    \n",
    "outer()\n",
    "print('global:',x)"
   ]
  },
  {
   "cell_type": "code",
   "execution_count": 31,
   "metadata": {},
   "outputs": [
    {
     "name": "stdout",
     "output_type": "stream",
     "text": [
      "1\n",
      "1\n",
      "2\n",
      "3\n",
      "4\n",
      "2\n"
     ]
    }
   ],
   "source": [
    "def make_counter():\n",
    "    count = 0\n",
    "    def counter():\n",
    "        nonlocal count\n",
    "        count += 1\n",
    "        print(count)\n",
    "    return counter\n",
    "a = make_counter()\n",
    "b = make_counter()\n",
    "a()\n",
    "b()\n",
    "a()\n",
    "a()\n",
    "a()\n",
    "b()\n",
    "\n",
    "\n",
    "        "
   ]
  },
  {
   "cell_type": "code",
   "execution_count": 32,
   "metadata": {},
   "outputs": [
    {
     "name": "stdout",
     "output_type": "stream",
     "text": [
      "2\n"
     ]
    }
   ],
   "source": [
    "x = 1\n",
    "scope = vars()\n",
    "#print(scope)\n",
    "scope['x'] += 1\n",
    "print(x)"
   ]
  },
  {
   "cell_type": "code",
   "execution_count": 33,
   "metadata": {},
   "outputs": [
    {
     "name": "stdout",
     "output_type": "stream",
     "text": [
      "{'param': 'Hello'}\n",
      "Hello,world\n"
     ]
    }
   ],
   "source": [
    "def fun(param):\n",
    "    print(locals())\n",
    "    print(param+globals()['param'])\n",
    "    \n",
    "param = ',world'\n",
    "fun(\"Hello\")"
   ]
  },
  {
   "cell_type": "code",
   "execution_count": null,
   "metadata": {},
   "outputs": [],
   "source": []
  },
  {
   "cell_type": "code",
   "execution_count": 34,
   "metadata": {},
   "outputs": [
    {
     "name": "stdout",
     "output_type": "stream",
     "text": [
      "Aaah...\n",
      "No, thanks!\n",
      "Squawk\n",
      "{'sound': 'Squawk'}\n"
     ]
    }
   ],
   "source": [
    "class Bird:\n",
    "    def __init__(self):\n",
    "        self.hungry = True\n",
    "    def eat(self):\n",
    "        if self.hungry:\n",
    "            print('Aaah...')\n",
    "            self.hungry = False\n",
    "        else:\n",
    "            print('No, thanks!')\n",
    "            \n",
    "b = Bird()\n",
    "b.eat()\n",
    "b.eat()\n",
    "\n",
    "class SongBird(Bird):\n",
    "    def __init__(self):\n",
    "        self.sound = 'Squawk'\n",
    "    def sing(self):\n",
    "        print(self.sound)\n",
    "        \n",
    "sb = SongBird()\n",
    "sb.sing()\n",
    "print(sb.__dict__)"
   ]
  },
  {
   "cell_type": "code",
   "execution_count": 35,
   "metadata": {},
   "outputs": [
    {
     "name": "stdout",
     "output_type": "stream",
     "text": [
      "Aaah...\n",
      "No, thanks!\n",
      "{'sound': 'Squawk', 'hungry': False}\n"
     ]
    }
   ],
   "source": [
    "class SongBird(Bird):\n",
    "    def __init__(self):\n",
    "        self.sound = 'Squawk'\n",
    "        Bird.__init__(self)\n",
    "    def sing(self):\n",
    "        print(self.sound)\n",
    "        \n",
    "sb = SongBird()\n",
    "sb.eat()\n",
    "sb.eat()\n",
    "print(sb.__dict__)\n"
   ]
  },
  {
   "cell_type": "code",
   "execution_count": 36,
   "metadata": {},
   "outputs": [
    {
     "name": "stdout",
     "output_type": "stream",
     "text": [
      "Aaah...\n",
      "No, thanks!\n",
      "{'sound': 'Squawk', 'hungry': False}\n"
     ]
    }
   ],
   "source": [
    "class SongBird(Bird):\n",
    "    def __init__(self):\n",
    "        self.sound = 'Squawk'\n",
    "        super().__init__()\n",
    "    def sing(self):\n",
    "        print(self.sound)\n",
    "        \n",
    "sb = SongBird()\n",
    "sb.eat()\n",
    "sb.eat()\n",
    "print(sb.__dict__)"
   ]
  },
  {
   "cell_type": "code",
   "execution_count": 37,
   "metadata": {},
   "outputs": [],
   "source": [
    "def check_index(key):\n",
    "    if not isinstance(key, int):\n",
    "        raise TypeError\n",
    "    if key<0:\n",
    "        raise IndexError"
   ]
  },
  {
   "cell_type": "code",
   "execution_count": 38,
   "metadata": {},
   "outputs": [
    {
     "name": "stdout",
     "output_type": "stream",
     "text": [
      "9\n",
      "2\n",
      "11\n",
      "{'start': 1, 'step': 2, 'changed': {4: 2}}\n"
     ]
    }
   ],
   "source": [
    "class ArithmeticSequence:\n",
    "    \n",
    "    def __init__(self, start=0, step=1):\n",
    "        self.start = start\n",
    "        self.step = step\n",
    "        self.changed = {}\n",
    "        \n",
    "    def __getitem__(self, key):\n",
    "        check_index(key)\n",
    "        try:\n",
    "            return self.changed[key]\n",
    "        except KeyError:\n",
    "            return self.start + key*self.step\n",
    "        \n",
    "    def __setitem__(self, key, value):\n",
    "        check_index(key)\n",
    "        self.changed[key] = value\n",
    "        \n",
    "    \n",
    "s = ArithmeticSequence(1,2)\n",
    "print(s[4])\n",
    "s[4] = 2\n",
    "print(s[4])\n",
    "print(s[5])\n",
    "\n",
    "print(s.__dict__)"
   ]
  },
  {
   "cell_type": "markdown",
   "metadata": {},
   "source": [
    "## 9.3.2 从list、dict 和 str 派生 "
   ]
  },
  {
   "cell_type": "markdown",
   "metadata": {},
   "source": [
    "## 9.5 特性\n",
    " "
   ]
  },
  {
   "cell_type": "code",
   "execution_count": 39,
   "metadata": {},
   "outputs": [
    {
     "data": {
      "text/plain": [
       "100"
      ]
     },
     "execution_count": 39,
     "metadata": {},
     "output_type": "execute_result"
    }
   ],
   "source": [
    "class Rectangle:\n",
    "    def __init__(self):\n",
    "        self.width = 0\n",
    "        self.height = 0\n",
    "        \n",
    "    def set_size(self, size):\n",
    "        self.width, self.height = size\n",
    "        \n",
    "    def get_size(self):\n",
    "        return self.width, self.height\n",
    "    \n",
    "r = Rectangle()\n",
    "r.width = 10\n",
    "r.height = 5\n",
    "r.get_size()\n",
    "r.set_size((100,100))\n",
    "r.width"
   ]
  },
  {
   "cell_type": "code",
   "execution_count": 40,
   "metadata": {},
   "outputs": [
    {
     "name": "stdout",
     "output_type": "stream",
     "text": [
      "set....\n",
      "get...\n",
      "(10, 10)\n",
      "10\n"
     ]
    }
   ],
   "source": [
    "class Rectangle:\n",
    "    def __init__(self):\n",
    "        self.width = 0\n",
    "        self.height = 0\n",
    "        \n",
    "    def set_size(self, size):\n",
    "        self.width, self.height = size\n",
    "        print(\"set....\")\n",
    "        \n",
    "    def get_size(self):\n",
    "        print('get...')\n",
    "        return self.width, self.height\n",
    "        \n",
    "    \n",
    "    size = property(get_size, set_size)\n",
    "    \n",
    "r = Rectangle()\n",
    "r.size = (10,10)\n",
    "print(r.size)\n",
    "print(r.width)"
   ]
  },
  {
   "cell_type": "code",
   "execution_count": 41,
   "metadata": {},
   "outputs": [
    {
     "name": "stdout",
     "output_type": "stream",
     "text": [
      "This is a staticmethod\n",
      "This is a classmethod of <class '__main__.MyClass'>\n",
      "This is a classmethod of <class '__main__.MyClass'>\n"
     ]
    }
   ],
   "source": [
    "class MyClass:\n",
    "    def smeth():\n",
    "        print(\"This is a staticmethod\")\n",
    "    smeth = staticmethod(smeth)\n",
    "    \n",
    "    def cmeth(cls):\n",
    "        print('This is a classmethod of', cls)\n",
    "    cmeth = classmethod(cmeth)\n",
    "    \n",
    "m = MyClass()\n",
    "m.smeth()\n",
    "m.cmeth()\n",
    "MyClass.cmeth()"
   ]
  },
  {
   "cell_type": "code",
   "execution_count": 42,
   "metadata": {},
   "outputs": [
    {
     "name": "stdout",
     "output_type": "stream",
     "text": [
      "This is a staticmethod...\n",
      "This is a classmethod of... <class '__main__.MyClass'>\n",
      "This is a classmethod of... <class '__main__.MyClass'>\n"
     ]
    }
   ],
   "source": [
    "class MyClass:\n",
    "    @staticmethod\n",
    "    def smeth():\n",
    "        print(\"This is a staticmethod...\")\n",
    "    \n",
    "    @classmethod\n",
    "    def cmeth(cls):\n",
    "        print('This is a classmethod of...', cls)\n",
    "   \n",
    "    \n",
    "m = MyClass()\n",
    "m.smeth()\n",
    "m.cmeth()\n",
    "MyClass.cmeth()"
   ]
  },
  {
   "cell_type": "markdown",
   "metadata": {},
   "source": [
    "# python"
   ]
  },
  {
   "cell_type": "markdown",
   "metadata": {},
   "source": [
    "## python"
   ]
  },
  {
   "cell_type": "code",
   "execution_count": 43,
   "metadata": {},
   "outputs": [
    {
     "name": "stdout",
     "output_type": "stream",
     "text": [
      "Hello, Mars!\n",
      "Howdy, Mars!\n",
      "Howdy, Mars...\n",
      "Hello, Mars!!!\n"
     ]
    }
   ],
   "source": [
    "def hello_4(name, greeting='Hello', punctuation='!'):\n",
    "    print('%s, %s%s' % (greeting, name, punctuation))\n",
    "    \n",
    "hello_4('Mars')\n",
    "hello_4('Mars', 'Howdy')\n",
    "hello_4('Mars', 'Howdy', '...')\n",
    "hello_4('Mars',punctuation='!!!')\n",
    "    "
   ]
  },
  {
   "cell_type": "code",
   "execution_count": 44,
   "metadata": {},
   "outputs": [
    {
     "name": "stdout",
     "output_type": "stream",
     "text": [
      "('Testing',)\n",
      "(1, 2, 3)\n",
      "Params\n",
      "(1, 2, 3)\n",
      "\n",
      "()\n"
     ]
    }
   ],
   "source": [
    "def print_params(*params):\n",
    "    print(params)\n",
    "    \n",
    "print_params('Testing')\n",
    "print_params(1,2,3)\n",
    "\n",
    "def print_params_2(title, *params):\n",
    "    print(title)\n",
    "    print(params)\n",
    "    \n",
    "print_params_2('Params',1,2,3)\n",
    "print_params_2('')"
   ]
  },
  {
   "cell_type": "code",
   "execution_count": 45,
   "metadata": {},
   "outputs": [
    {
     "name": "stdout",
     "output_type": "stream",
     "text": [
      "1597\n"
     ]
    }
   ],
   "source": [
    "class Fibs:\n",
    "    def __init__(self):\n",
    "        self.a, self.b = 0, 1\n",
    "    def __next__(self):\n",
    "        self.a, self.b = self.b, self.a+self.b\n",
    "        return self.a\n",
    "    def __iter__(self):\n",
    "        return self\n",
    "    \n",
    "fibs = Fibs()\n",
    "for f in fibs:\n",
    "    if f>1000:\n",
    "        print(f)\n",
    "        break\n",
    "        \n",
    "        "
   ]
  },
  {
   "cell_type": "code",
   "execution_count": 46,
   "metadata": {},
   "outputs": [
    {
     "data": {
      "text/plain": [
       "3"
      ]
     },
     "execution_count": 46,
     "metadata": {},
     "output_type": "execute_result"
    }
   ],
   "source": [
    "it = iter([1,2,3])\n",
    "next(it)\n",
    "next(it)\n",
    "next(it)\n"
   ]
  },
  {
   "cell_type": "code",
   "execution_count": 63,
   "metadata": {},
   "outputs": [],
   "source": [
    "import random\n",
    "# help(random.randrange)\n",
    "lst = [random.randrange(10,20) for i in range(1024)]\n"
   ]
  },
  {
   "cell_type": "code",
   "execution_count": 65,
   "metadata": {},
   "outputs": [
    {
     "data": {
      "text/plain": [
       "['__and__',\n",
       " '__class__',\n",
       " '__contains__',\n",
       " '__delattr__',\n",
       " '__dir__',\n",
       " '__doc__',\n",
       " '__eq__',\n",
       " '__format__',\n",
       " '__ge__',\n",
       " '__getattribute__',\n",
       " '__gt__',\n",
       " '__hash__',\n",
       " '__iand__',\n",
       " '__init__',\n",
       " '__init_subclass__',\n",
       " '__ior__',\n",
       " '__isub__',\n",
       " '__iter__',\n",
       " '__ixor__',\n",
       " '__le__',\n",
       " '__len__',\n",
       " '__lt__',\n",
       " '__ne__',\n",
       " '__new__',\n",
       " '__or__',\n",
       " '__rand__',\n",
       " '__reduce__',\n",
       " '__reduce_ex__',\n",
       " '__repr__',\n",
       " '__ror__',\n",
       " '__rsub__',\n",
       " '__rxor__',\n",
       " '__setattr__',\n",
       " '__sizeof__',\n",
       " '__str__',\n",
       " '__sub__',\n",
       " '__subclasshook__',\n",
       " '__xor__',\n",
       " 'add',\n",
       " 'clear',\n",
       " 'copy',\n",
       " 'difference',\n",
       " 'difference_update',\n",
       " 'discard',\n",
       " 'intersection',\n",
       " 'intersection_update',\n",
       " 'isdisjoint',\n",
       " 'issubset',\n",
       " 'issuperset',\n",
       " 'pop',\n",
       " 'remove',\n",
       " 'symmetric_difference',\n",
       " 'symmetric_difference_update',\n",
       " 'union',\n",
       " 'update']"
      ]
     },
     "execution_count": 65,
     "metadata": {},
     "output_type": "execute_result"
    }
   ],
   "source": [
    "a = set()\n",
    "dir(a)"
   ]
  },
  {
   "cell_type": "code",
   "execution_count": 6,
   "metadata": {},
   "outputs": [
    {
     "name": "stdout",
     "output_type": "stream",
     "text": [
      "[7, 5, 2, 3, 4, 6, 0, 9, 8, 1]\n",
      "[0, 1, 2, 7, 3, 6, 5, 9, 8, 4]\n",
      "[0, 0.5, 2, 7, 1, 6, 5, 9, 8, 4, 3]\n"
     ]
    }
   ],
   "source": [
    "from heapq import *\n",
    "from random import shuffle\n",
    "data = list(range(10))\n",
    "shuffle(data)\n",
    "print(data)\n",
    "heap = []\n",
    "for n in data:\n",
    "    heappush(heap, n)\n",
    "print(heap)\n",
    "heappush(heap, 0.5)\n",
    "print(heap)"
   ]
  },
  {
   "cell_type": "code",
   "execution_count": 8,
   "metadata": {},
   "outputs": [
    {
     "ename": "AssertionError",
     "evalue": "The age must be realistic",
     "output_type": "error",
     "traceback": [
      "\u001b[1;31m---------------------------------------------------------------------------\u001b[0m",
      "\u001b[1;31mAssertionError\u001b[0m                            Traceback (most recent call last)",
      "\u001b[1;32m<ipython-input-8-6a939e9350ea>\u001b[0m in \u001b[0;36m<module>\u001b[1;34m()\u001b[0m\n\u001b[0;32m      3\u001b[0m \u001b[1;33m\u001b[0m\u001b[0m\n\u001b[0;32m      4\u001b[0m \u001b[0mage\u001b[0m \u001b[1;33m=\u001b[0m \u001b[1;33m-\u001b[0m\u001b[1;36m1\u001b[0m\u001b[1;33m\u001b[0m\u001b[0m\n\u001b[1;32m----> 5\u001b[1;33m \u001b[1;32massert\u001b[0m \u001b[1;36m0\u001b[0m\u001b[1;33m<\u001b[0m\u001b[0mage\u001b[0m\u001b[1;33m<\u001b[0m\u001b[1;36m100\u001b[0m\u001b[1;33m,\u001b[0m\u001b[1;34m'The age must be realistic'\u001b[0m\u001b[1;33m\u001b[0m\u001b[0m\n\u001b[0m",
      "\u001b[1;31mAssertionError\u001b[0m: The age must be realistic"
     ]
    }
   ],
   "source": [
    "age = 10\n",
    "assert 0<age<100\n",
    "\n",
    "age = -1\n",
    "assert 0<age<100,'The age must be realistic'"
   ]
  },
  {
   "cell_type": "code",
   "execution_count": 12,
   "metadata": {},
   "outputs": [
    {
     "name": "stdout",
     "output_type": "stream",
     "text": [
      "3\n"
     ]
    }
   ],
   "source": [
    "small=3 if 3<4 else 4\n",
    "print(small)"
   ]
  },
  {
   "cell_type": "code",
   "execution_count": 16,
   "metadata": {},
   "outputs": [
    {
     "name": "stdout",
     "output_type": "stream",
     "text": [
      "Hello, world!\n"
     ]
    },
    {
     "ename": "TypeError",
     "evalue": "'int' object is not callable",
     "output_type": "error",
     "traceback": [
      "\u001b[1;31m---------------------------------------------------------------------------\u001b[0m",
      "\u001b[1;31mTypeError\u001b[0m                                 Traceback (most recent call last)",
      "\u001b[1;32m<ipython-input-16-28658e6d3a87>\u001b[0m in \u001b[0;36m<module>\u001b[1;34m()\u001b[0m\n\u001b[0;32m      3\u001b[0m \u001b[0msqrt\u001b[0m\u001b[1;33m(\u001b[0m\u001b[1;36m9\u001b[0m\u001b[1;33m)\u001b[0m\u001b[1;33m\u001b[0m\u001b[0m\n\u001b[0;32m      4\u001b[0m \u001b[0mexec\u001b[0m\u001b[1;33m(\u001b[0m\u001b[1;34m\"sqrt=0\"\u001b[0m\u001b[1;33m)\u001b[0m\u001b[1;33m\u001b[0m\u001b[0m\n\u001b[1;32m----> 5\u001b[1;33m \u001b[0msqrt\u001b[0m\u001b[1;33m(\u001b[0m\u001b[1;36m4\u001b[0m\u001b[1;33m)\u001b[0m\u001b[1;33m\u001b[0m\u001b[0m\n\u001b[0m",
      "\u001b[1;31mTypeError\u001b[0m: 'int' object is not callable"
     ]
    }
   ],
   "source": [
    "exec(\"print('Hello, world!')\") \n",
    "from math import sqrt\n",
    "sqrt(9)\n",
    "exec(\"sqrt=0\")\n",
    "sqrt(4)"
   ]
  },
  {
   "cell_type": "code",
   "execution_count": 19,
   "metadata": {},
   "outputs": [
    {
     "data": {
      "text/plain": [
       "dict_keys(['__builtins__', 'sqrt'])"
      ]
     },
     "execution_count": 19,
     "metadata": {},
     "output_type": "execute_result"
    }
   ],
   "source": [
    "from math import sqrt\n",
    "scope = {}\n",
    "exec('sqrt=1', scope)\n",
    "sqrt(4)\n",
    "scope['sqrt']\n",
    "scope.keys()"
   ]
  }
 ],
 "metadata": {
  "kernelspec": {
   "display_name": "Python 3",
   "language": "python",
   "name": "python3"
  },
  "language_info": {
   "codemirror_mode": {
    "name": "ipython",
    "version": 3
   },
   "file_extension": ".py",
   "mimetype": "text/x-python",
   "name": "python",
   "nbconvert_exporter": "python",
   "pygments_lexer": "ipython3",
   "version": "3.6.4"
  }
 },
 "nbformat": 4,
 "nbformat_minor": 2
}
