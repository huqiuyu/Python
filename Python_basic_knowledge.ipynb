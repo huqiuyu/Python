{
 "cells": [
  {
   "cell_type": "code",
   "execution_count": 3,
   "metadata": {},
   "outputs": [
    {
     "name": "stdout",
     "output_type": "stream",
     "text": [
      "[0, 3, 6, 9]\n"
     ]
    }
   ],
   "source": [
    "a = filter(lambda x: x % 3 == 0, range(10))\n",
    "print(list(a))"
   ]
  },
  {
   "cell_type": "code",
   "execution_count": 4,
   "metadata": {},
   "outputs": [
    {
     "name": "stdout",
     "output_type": "stream",
     "text": [
      "[0, 3, 6, 9]\n"
     ]
    }
   ],
   "source": [
    "a = [x for x in range(10) if x % 3 == 0]\n",
    "print(a)\n",
    "    "
   ]
  },
  {
   "cell_type": "code",
   "execution_count": 8,
   "metadata": {},
   "outputs": [
    {
     "name": "stdout",
     "output_type": "stream",
     "text": [
      "<class 'function'>\n"
     ]
    }
   ],
   "source": [
    "def fun(x):\n",
    "    pass\n",
    "\n",
    "print(type(fun))"
   ]
  },
  {
   "cell_type": "code",
   "execution_count": 8,
   "metadata": {},
   "outputs": [
    {
     "name": "stdout",
     "output_type": "stream",
     "text": [
      "<class 'function'>\n"
     ]
    }
   ],
   "source": [
    "f = lambda x: x\n",
    "print(type(f))"
   ]
  },
  {
   "cell_type": "code",
   "execution_count": 7,
   "metadata": {},
   "outputs": [
    {
     "name": "stdout",
     "output_type": "stream",
     "text": [
      "[2, 1, 3, 4, 5]\n"
     ]
    }
   ],
   "source": [
    "a = sorted([1,2,3,4,5], key=lambda x:abs(2-x))\n",
    "print(a)"
   ]
  },
  {
   "cell_type": "code",
   "execution_count": 11,
   "metadata": {},
   "outputs": [
    {
     "name": "stdout",
     "output_type": "stream",
     "text": [
      "[(4, 0), (2, 1), (1, 2), (3, 2)]\n"
     ]
    }
   ],
   "source": [
    "lst = [(1,2), (2,1), (3,2), (4,0)]\n",
    "lst = sorted(lst, key=lambda x: x[1])\n",
    "print(lst)"
   ]
  },
  {
   "cell_type": "code",
   "execution_count": null,
   "metadata": {},
   "outputs": [],
   "source": []
  },
  {
   "cell_type": "markdown",
   "metadata": {},
   "source": [
    "# dict"
   ]
  },
  {
   "cell_type": "code",
   "execution_count": 12,
   "metadata": {},
   "outputs": [
    {
     "name": "stdout",
     "output_type": "stream",
     "text": [
      "{'a': 1, 'b': 10, 'c': 11}\n"
     ]
    }
   ],
   "source": [
    "x = {'a':1, 'b': 2}\n",
    "y = {'b':10, 'c': 11}\n",
    "x.update(y)\n",
    "print(x)"
   ]
  },
  {
   "cell_type": "code",
   "execution_count": 13,
   "metadata": {},
   "outputs": [
    {
     "name": "stdout",
     "output_type": "stream",
     "text": [
      "{'a': 1, 'b': 10, 'c': 11}\n"
     ]
    }
   ],
   "source": [
    "x = {'a':1, 'b': 2}\n",
    "y = {'b':10, 'c': 11}\n",
    "z = {**x, **y}\n",
    "print(z)"
   ]
  },
  {
   "cell_type": "code",
   "execution_count": 24,
   "metadata": {},
   "outputs": [
    {
     "name": "stdout",
     "output_type": "stream",
     "text": [
      "{'a': 'b', 'c': 'd'}\n",
      "{'a': 1, 'b': 2}\n"
     ]
    }
   ],
   "source": [
    "lst = ['ab', 'cd']\n",
    "\n",
    "print(dict(lst))\n",
    "lst = [('a', 1), ('b', 2)]\n",
    "print(dict(lst))"
   ]
  },
  {
   "cell_type": "code",
   "execution_count": 15,
   "metadata": {},
   "outputs": [
    {
     "name": "stdout",
     "output_type": "stream",
     "text": [
      "{'a': 1, 'b': 2, 'z': 3}\n"
     ]
    }
   ],
   "source": [
    "x = {'a':1, 'b': 2}\n",
    "x.update(z=3)\n",
    "print(x)"
   ]
  },
  {
   "cell_type": "code",
   "execution_count": null,
   "metadata": {},
   "outputs": [],
   "source": []
  },
  {
   "cell_type": "markdown",
   "metadata": {},
   "source": [
    "# reduce"
   ]
  },
  {
   "cell_type": "code",
   "execution_count": 16,
   "metadata": {},
   "outputs": [],
   "source": [
    "from functools import reduce"
   ]
  },
  {
   "cell_type": "code",
   "execution_count": 18,
   "metadata": {},
   "outputs": [
    {
     "name": "stdout",
     "output_type": "stream",
     "text": [
      "Help on built-in function reduce in module _functools:\n",
      "\n",
      "reduce(...)\n",
      "    reduce(function, sequence[, initial]) -> value\n",
      "    \n",
      "    Apply a function of two arguments cumulatively to the items of a sequence,\n",
      "    from left to right, so as to reduce the sequence to a single value.\n",
      "    For example, reduce(lambda x, y: x+y, [1, 2, 3, 4, 5]) calculates\n",
      "    ((((1+2)+3)+4)+5).  If initial is present, it is placed before the items\n",
      "    of the sequence in the calculation, and serves as a default when the\n",
      "    sequence is empty.\n",
      "\n"
     ]
    }
   ],
   "source": [
    "help(reduce)"
   ]
  },
  {
   "cell_type": "code",
   "execution_count": 19,
   "metadata": {},
   "outputs": [
    {
     "ename": "TypeError",
     "evalue": "'int' object is not subscriptable",
     "traceback": [
      "\u001b[1;31m---------------------------------------------------------------------------\u001b[0m",
      "\u001b[1;31mTypeError\u001b[0m                                 Traceback (most recent call last)",
      "\u001b[1;32m<ipython-input-19-79c0b0dc36cf>\u001b[0m in \u001b[0;36m<module>\u001b[1;34m()\u001b[0m\n\u001b[0;32m      7\u001b[0m     \u001b[1;32mreturn\u001b[0m \u001b[0msum\u001b[0m\u001b[1;33m\u001b[0m\u001b[0m\n\u001b[0;32m      8\u001b[0m \u001b[1;33m\u001b[0m\u001b[0m\n\u001b[1;32m----> 9\u001b[1;33m \u001b[0mtotal_age\u001b[0m \u001b[1;33m=\u001b[0m \u001b[0mreduce\u001b[0m\u001b[1;33m(\u001b[0m\u001b[0mreducer\u001b[0m\u001b[1;33m,\u001b[0m \u001b[0mscientists\u001b[0m\u001b[1;33m)\u001b[0m\u001b[1;33m\u001b[0m\u001b[0m\n\u001b[0m\u001b[0;32m     10\u001b[0m \u001b[0mprint\u001b[0m\u001b[1;33m(\u001b[0m\u001b[0mtotal_age\u001b[0m\u001b[1;33m)\u001b[0m\u001b[1;33m\u001b[0m\u001b[0m\n",
      "\u001b[1;32m<ipython-input-19-79c0b0dc36cf>\u001b[0m in \u001b[0;36mreducer\u001b[1;34m(accumulator, value)\u001b[0m\n\u001b[0;32m      4\u001b[0m                {'name':'Guido van Rossum', 'age':61})\n\u001b[0;32m      5\u001b[0m \u001b[1;32mdef\u001b[0m \u001b[0mreducer\u001b[0m\u001b[1;33m(\u001b[0m\u001b[0maccumulator\u001b[0m \u001b[1;33m,\u001b[0m \u001b[0mvalue\u001b[0m\u001b[1;33m)\u001b[0m\u001b[1;33m:\u001b[0m\u001b[1;33m\u001b[0m\u001b[0m\n\u001b[1;32m----> 6\u001b[1;33m     \u001b[0msum\u001b[0m \u001b[1;33m=\u001b[0m \u001b[0maccumulator\u001b[0m\u001b[1;33m[\u001b[0m\u001b[1;34m'age'\u001b[0m\u001b[1;33m]\u001b[0m \u001b[1;33m+\u001b[0m \u001b[0mvalue\u001b[0m\u001b[1;33m[\u001b[0m\u001b[1;34m'age'\u001b[0m\u001b[1;33m]\u001b[0m\u001b[1;33m\u001b[0m\u001b[0m\n\u001b[0m\u001b[0;32m      7\u001b[0m     \u001b[1;32mreturn\u001b[0m \u001b[0msum\u001b[0m\u001b[1;33m\u001b[0m\u001b[0m\n\u001b[0;32m      8\u001b[0m \u001b[1;33m\u001b[0m\u001b[0m\n",
      "\u001b[1;31mTypeError\u001b[0m: 'int' object is not subscriptable"
     ],
     "output_type": "error"
    }
   ],
   "source": [
    "scientists =({'name':'Alan Turing', 'age':105},\n",
    "               {'name':'Dennis Ritchie', 'age':76},\n",
    "              {'name':'John von Neumann', 'age':114},\n",
    "               {'name':'Guido van Rossum', 'age':61})\n",
    "def reducer(accumulator , value):\n",
    "    sum = accumulator['age'] + value['age']\n",
    "    return sum\n",
    "\n",
    "total_age = reduce(reducer, scientists)\n",
    "print(total_age)"
   ]
  },
  {
   "cell_type": "code",
   "execution_count": 23,
   "metadata": {},
   "outputs": [
    {
     "name": "stdout",
     "output_type": "stream",
     "text": [
      "356\n",
      "356\n"
     ]
    }
   ],
   "source": [
    "scientists =({'name':'Alan Turing', 'age':105},\n",
    "               {'name':'Dennis Ritchie', 'age':76},\n",
    "              {'name':'John von Neumann', 'age':114},\n",
    "               {'name':'Guido van Rossum', 'age':61})\n",
    "def reducer(accumulator , value):\n",
    "    sum = accumulator + value['age']\n",
    "    return sum\n",
    "\n",
    "total_age = reduce(reducer, scientists, 0)\n",
    "print(total_age)\n",
    "\n",
    "print(sum([x['age'] for x in scientists ]))"
   ]
  },
  {
   "cell_type": "code",
   "execution_count": 25,
   "metadata": {},
   "outputs": [
    {
     "name": "stdout",
     "output_type": "stream",
     "text": [
      "{'male': ['Alan Turing', 'Dennis Ritchie'], 'female': ['Ada Lovelace', 'Frances E. Allen']}\n"
     ]
    }
   ],
   "source": [
    "from functools import reduce\n",
    "scientists =({'name':'Alan Turing', 'age':105, 'gender':'male'},\n",
    "             {'name':'Dennis Ritchie', 'age':76, 'gender':'male'},\n",
    "             {'name':'Ada Lovelace', 'age':202, 'gender':'female'},\n",
    "             {'name':'Frances E. Allen', 'age':84, 'gender':'female'})\n",
    "def group_by_gender(accumulator , value):\n",
    "    accumulator[value['gender']].append(value['name'])\n",
    "    return accumulator\n",
    "grouped = reduce(group_by_gender, scientists, {'male':[], 'female':[]})\n",
    "print(grouped)"
   ]
  },
  {
   "cell_type": "code",
   "execution_count": null,
   "metadata": {},
   "outputs": [],
   "source": []
  },
  {
   "cell_type": "code",
   "execution_count": null,
   "metadata": {},
   "outputs": [],
   "source": []
  },
  {
   "cell_type": "code",
   "execution_count": 5,
   "metadata": {},
   "outputs": [
    {
     "name": "stdout",
     "output_type": "stream",
     "text": [
      "0x7957930\n",
      "<class 'function'>\n",
      "<function f.<locals>.g at 0x07957930>\n",
      "0x7957930\n"
     ]
    }
   ],
   "source": [
    "def f(x):\n",
    "    def g(y):\n",
    "        return x*y\n",
    "    print('%#x' % id(g))\n",
    "    return g\n",
    "\n",
    "a = f(5)\n",
    "print(type(a))\n",
    "print(a)\n",
    "print('%#x'% id(a))"
   ]
  },
  {
   "cell_type": "code",
   "execution_count": 15,
   "metadata": {},
   "outputs": [],
   "source": [
    "from collections import defaultdict"
   ]
  },
  {
   "cell_type": "code",
   "execution_count": 16,
   "metadata": {},
   "outputs": [
    {
     "name": "stdout",
     "output_type": "stream",
     "text": [
      "0\n",
      "defaultdict(<class 'int'>, {'name': 'joe', 'age': 0})\n"
     ]
    }
   ],
   "source": [
    "\n",
    "d = defaultdict(int)\n",
    "d['name'] = 'joe'\n",
    "print(d['age'])\n",
    "print(d)"
   ]
  },
  {
   "cell_type": "code",
   "execution_count": 21,
   "metadata": {},
   "outputs": [
    {
     "name": "stdout",
     "output_type": "stream",
     "text": [
      "defaultdict(<class 'int'>, {})\n",
      "spam 1\n",
      "eggs 2\n"
     ]
    }
   ],
   "source": [
    "food = ['spam', 'eggs', 'eggs']\n",
    "food_counter = defaultdict(int)\n",
    "print(food_counter)\n",
    "for f in food:\n",
    "    food_counter[f] += 1\n",
    "for f, count in food_counter.items():\n",
    "    print(f, count)"
   ]
  },
  {
   "cell_type": "code",
   "execution_count": 20,
   "metadata": {},
   "outputs": [
    {
     "name": "stdout",
     "output_type": "stream",
     "text": [
      "{'spam': 0, 'eggs': 0}\n",
      "spam 1\n",
      "eggs 2\n"
     ]
    }
   ],
   "source": [
    "food = ['spam', 'eggs', 'eggs']\n",
    "food_counter = {}.fromkeys(food, 0)\n",
    "print(food_counter)\n",
    "for f in food:\n",
    "    food_counter[f] += 1\n",
    "for f, count in food_counter.items():\n",
    "    print(f, count)"
   ]
  },
  {
   "cell_type": "code",
   "execution_count": 22,
   "metadata": {},
   "outputs": [],
   "source": [
    "from collections import Counter"
   ]
  },
  {
   "cell_type": "code",
   "execution_count": 25,
   "metadata": {},
   "outputs": [
    {
     "name": "stdout",
     "output_type": "stream",
     "text": [
      "Counter({'spam': 2, 'eggs': 1})\n",
      "{'spam': 2, 'eggs': 1}\n",
      "[('spam', 2)]\n"
     ]
    }
   ],
   "source": [
    "breakfast = ['spam', 'spam', 'eggs']\n",
    "breakfast_counter = Counter(breakfast)\n",
    "print(breakfast_counter)\n",
    "d = dict(breakfast_counter)\n",
    "print(d)\n",
    "print(breakfast_counter.most_common(1))"
   ]
  },
  {
   "cell_type": "code",
   "execution_count": 26,
   "metadata": {},
   "outputs": [
    {
     "name": "stdout",
     "output_type": "stream",
     "text": [
      "Counter({'s': 4, 'd': 4, 'a': 2, 'x': 2, 'g': 1, 'e': 1})\n"
     ]
    }
   ],
   "source": [
    "s = 'agsdxsdsddaesx'\n",
    "print(Counter(s))"
   ]
  }
 ],
 "metadata": {
  "kernelspec": {
   "display_name": "Python 3",
   "language": "python",
   "name": "python3"
  },
  "language_info": {
   "codemirror_mode": {
    "name": "ipython",
    "version": 3
   },
   "file_extension": ".py",
   "mimetype": "text/x-python",
   "name": "python",
   "nbconvert_exporter": "python",
   "pygments_lexer": "ipython3",
   "version": "3.6.4"
  }
 },
 "nbformat": 4,
 "nbformat_minor": 2
}
